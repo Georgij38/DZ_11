{
  "nbformat": 4,
  "nbformat_minor": 0,
  "metadata": {
    "colab": {
      "provenance": [],
      "authorship_tag": "ABX9TyPPBuHRqsqYKAsh5+x1NuL7",
      "include_colab_link": true
    },
    "kernelspec": {
      "name": "python3",
      "display_name": "Python 3"
    },
    "language_info": {
      "name": "python"
    }
  },
  "cells": [
    {
      "cell_type": "markdown",
      "metadata": {
        "id": "view-in-github",
        "colab_type": "text"
      },
      "source": [
        "<a href=\"https://colab.research.google.com/github/Georgij38/DZ_11/blob/main/DZ_DS_1.ipynb\" target=\"_parent\"><img src=\"https://colab.research.google.com/assets/colab-badge.svg\" alt=\"Open In Colab\"/></a>"
      ]
    },
    {
      "cell_type": "code",
      "execution_count": null,
      "metadata": {
        "colab": {
          "base_uri": "https://localhost:8080/"
        },
        "id": "N1qLI-Cmdvlo",
        "outputId": "6a6c0bc1-fc37-475c-925c-5d932ab950ed"
      },
      "outputs": [
        {
          "output_type": "stream",
          "name": "stdout",
          "text": [
            "[1, 2, 3, 4, 5, 6, 7, 8, 9, 10]\n"
          ]
        }
      ],
      "source": [
        "array = [1, 2, 3, 4, 5, 6, 7, 8, 9, 10]\n",
        "print(array)"
      ]
    },
    {
      "cell_type": "code",
      "source": [
        "matrix = [[0 for _ in range(3)] for _ in range(3)]\n",
        "\n",
        "for row in matrix:\n",
        "    print(row)"
      ],
      "metadata": {
        "colab": {
          "base_uri": "https://localhost:8080/"
        },
        "id": "CKRME5bTe8ae",
        "outputId": "30cbfded-6961-46aa-eadd-d6c24be8e863"
      },
      "execution_count": null,
      "outputs": [
        {
          "output_type": "stream",
          "name": "stdout",
          "text": [
            "[0, 0, 0]\n",
            "[0, 0, 0]\n",
            "[0, 0, 0]\n"
          ]
        }
      ]
    },
    {
      "cell_type": "code",
      "source": [
        "import random\n",
        "matrix = [[random.randint(1, 10) for _ in range(5)] for _ in range(5)]\n",
        "\n",
        "for row in matrix:\n",
        "    print(row)"
      ],
      "metadata": {
        "colab": {
          "base_uri": "https://localhost:8080/"
        },
        "id": "NDhzGiLzfDQN",
        "outputId": "de5a494d-b134-45c4-cce6-c9af3c38b69c"
      },
      "execution_count": null,
      "outputs": [
        {
          "output_type": "stream",
          "name": "stdout",
          "text": [
            "[7, 2, 3, 6, 3]\n",
            "[2, 10, 9, 1, 2]\n",
            "[1, 5, 1, 10, 10]\n",
            "[4, 9, 6, 10, 1]\n",
            "[9, 10, 4, 1, 7]\n"
          ]
        }
      ]
    },
    {
      "cell_type": "code",
      "source": [
        "import random\n",
        "matrix = [[random.uniform(0, 1) for _ in range(4)] for _ in range(4)]\n",
        "\n",
        "for row in matrix:\n",
        "    print(row)"
      ],
      "metadata": {
        "colab": {
          "base_uri": "https://localhost:8080/"
        },
        "id": "Djbfdg3Vfv9r",
        "outputId": "c644b9c4-8330-435b-952d-d63d2603bc8c"
      },
      "execution_count": null,
      "outputs": [
        {
          "output_type": "stream",
          "name": "stdout",
          "text": [
            "[0.8023061635667654, 0.8629109616437407, 0.9043698840339621, 0.8846588951715386]\n",
            "[0.9672824061349058, 0.08026091686761672, 0.8874758564229964, 0.5883995633625637]\n",
            "[0.22349378566477318, 0.5516636523649051, 0.982087615876658, 0.7752212057231961]\n",
            "[0.8839224637904518, 0.9424127841341444, 0.8129136869416995, 0.9582788603096075]\n"
          ]
        }
      ]
    },
    {
      "cell_type": "code",
      "source": [
        "import numpy as np\n",
        "\n",
        "array1 = np.random.randint(1, 11, size=5)\n",
        "array2 = np.random.randint(1, 11, size=5)\n",
        "\n",
        "addarray = np.add(array1, array2)\n",
        "subtractarray = np.subtract(array1, array2)\n",
        "multiplyarray = np.multiply(array1, array2)\n",
        "\n",
        "# Виводимо результати\n",
        "print(\"Масив 1:\", array1)\n",
        "print(\"Масив 2:\", array2)\n",
        "print(\"Результат додавання:\", addarray)\n",
        "print(\"Результат віднімання:\", subtractarray)\n",
        "print(\"Результат множення:\", multiplyarray)"
      ],
      "metadata": {
        "colab": {
          "base_uri": "https://localhost:8080/"
        },
        "id": "BHnJC_s6f__2",
        "outputId": "3aa51219-9666-453d-f24f-a952e2eb3941"
      },
      "execution_count": null,
      "outputs": [
        {
          "output_type": "stream",
          "name": "stdout",
          "text": [
            "Масив 1: [ 5  9  4  7 10]\n",
            "Масив 2: [7 1 9 9 3]\n",
            "Результат додавання: [12 10 13 16 13]\n",
            "Результат віднімання: [-2  8 -5 -2  7]\n",
            "Результат множення: [35  9 36 63 30]\n"
          ]
        }
      ]
    },
    {
      "cell_type": "code",
      "source": [
        "import numpy as np\n",
        "\n",
        "vector1 =  np.random.randint(1, 100, size=7)\n",
        "vector2 =  np.random.randint(1, 100, size=7)\n",
        "\n",
        "scalar_product = np.dot(vector1, vector2)\n",
        "\n",
        "print(\"Скалярний добуток:\", scalar_product)"
      ],
      "metadata": {
        "colab": {
          "base_uri": "https://localhost:8080/"
        },
        "id": "yOK0SOWMmWfk",
        "outputId": "38c66c73-7b46-4815-934a-1ab001a62722"
      },
      "execution_count": null,
      "outputs": [
        {
          "output_type": "stream",
          "name": "stdout",
          "text": [
            "Скалярний добуток: 22259\n"
          ]
        }
      ]
    },
    {
      "cell_type": "code",
      "source": [
        "import numpy as np\n",
        "\n",
        "matrix1 = np.random.randint(1, 11, size=(2, 2))\n",
        "matrix2 = np.random.randint(1, 11, size=(2, 3))\n",
        "\n",
        "result = np.dot(matrix1, matrix2)\n",
        "\n",
        "print(\"Результат перемноження:\")\n",
        "print(result)"
      ],
      "metadata": {
        "colab": {
          "base_uri": "https://localhost:8080/"
        },
        "id": "fusP6lK1o3ZN",
        "outputId": "bc4e3599-f1c1-450f-a9ac-a8b4e3492f94"
      },
      "execution_count": null,
      "outputs": [
        {
          "output_type": "stream",
          "name": "stdout",
          "text": [
            "Результат перемноження:\n",
            "[[ 30  92  69]\n",
            " [ 45 126 117]]\n"
          ]
        }
      ]
    },
    {
      "cell_type": "code",
      "source": [
        "import numpy as np\n",
        "\n",
        "matrix = np.random.randint(1, 11, size=(3, 3))\n",
        "\n",
        "inverse_matrix = np.linalg.inv(matrix)\n",
        "\n",
        "print(\"Матриця:\")\n",
        "print(matrix)\n",
        "print(\"\\nОбернена матриця:\")\n",
        "print(inverse_matrix)"
      ],
      "metadata": {
        "colab": {
          "base_uri": "https://localhost:8080/"
        },
        "id": "YoRtVQtMqb9y",
        "outputId": "4c5cce8b-bbbb-4e3b-8414-33082164d499"
      },
      "execution_count": null,
      "outputs": [
        {
          "output_type": "stream",
          "name": "stdout",
          "text": [
            "Матриця:\n",
            "[[1 3 6]\n",
            " [5 1 7]\n",
            " [6 5 1]]\n",
            "\n",
            "Обернена матриця:\n",
            "[[-0.17801047  0.14136126  0.07853403]\n",
            " [ 0.19371728 -0.18324607  0.12041885]\n",
            " [ 0.09947644  0.06806283 -0.07329843]]\n"
          ]
        }
      ]
    },
    {
      "cell_type": "code",
      "source": [
        "import numpy as np\n",
        "\n",
        "matrix = np.random.uniform(0, 1, size=(4, 4))\n",
        "transposed_matrix = matrix.T\n",
        "\n",
        "print(matrix)\n",
        "print(\"\\nТранспонована матриця:\")\n",
        "print(transposed_matrix)"
      ],
      "metadata": {
        "colab": {
          "base_uri": "https://localhost:8080/"
        },
        "id": "yuyb7Be-q_A3",
        "outputId": "b0ad6ed5-4e66-47f8-9e2e-5fa965ebf4bd"
      },
      "execution_count": null,
      "outputs": [
        {
          "output_type": "stream",
          "name": "stdout",
          "text": [
            "[[0.9907812  0.38355074 0.0949305  0.51908186]\n",
            " [0.75243424 0.90500166 0.58070498 0.57441116]\n",
            " [0.58984928 0.23431457 0.45684509 0.76539829]\n",
            " [0.46414179 0.9276868  0.94447823 0.16925992]]\n",
            "\n",
            "Транспонована матриця:\n",
            "[[0.9907812  0.75243424 0.58984928 0.46414179]\n",
            " [0.38355074 0.90500166 0.23431457 0.9276868 ]\n",
            " [0.0949305  0.58070498 0.45684509 0.94447823]\n",
            " [0.51908186 0.57441116 0.76539829 0.16925992]]\n"
          ]
        }
      ]
    },
    {
      "cell_type": "code",
      "source": [
        "import numpy as np\n",
        "\n",
        "matrix = np.random.randint(1, 11, size=(3, 4))\n",
        "\n",
        "vector = np.random.randint(1, 11, size=(4,))\n",
        "\n",
        "result = np.dot(matrix, vector)\n",
        "\n",
        "print(\"Матриця:\")\n",
        "print(matrix)\n",
        "print(\"\\nВектор:\")\n",
        "print(vector)\n",
        "print(\"\\nРезультат перемноження:\")\n",
        "print(result)"
      ],
      "metadata": {
        "colab": {
          "base_uri": "https://localhost:8080/"
        },
        "id": "9K5bRAQwrbKZ",
        "outputId": "c8a7a48e-e388-44d9-be2c-8e6ce62cf340"
      },
      "execution_count": null,
      "outputs": [
        {
          "output_type": "stream",
          "name": "stdout",
          "text": [
            "Матриця:\n",
            "[[3 7 3 7]\n",
            " [1 9 8 5]\n",
            " [4 9 7 4]]\n",
            "\n",
            "Вектор:\n",
            "[2 2 7 2]\n",
            "\n",
            "Результат перемноження:\n",
            "[55 86 83]\n"
          ]
        }
      ]
    },
    {
      "cell_type": "code",
      "source": [
        "import numpy as np\n",
        "\n",
        "matrix = np.random.uniform(0, 1, size=(2, 3))\n",
        "\n",
        "vector = np.random.uniform(0, 1, size=(3,))\n",
        "\n",
        "result = np.dot(matrix, vector)\n",
        "\n",
        "print(\"Матриця:\")\n",
        "print(matrix)\n",
        "print(\"\\nВектор:\")\n",
        "print(vector)\n",
        "print(\"\\nРезультат перемноження:\")\n",
        "print(result)"
      ],
      "metadata": {
        "colab": {
          "base_uri": "https://localhost:8080/"
        },
        "id": "m8kJssODrrg2",
        "outputId": "95e800f6-f494-4784-c260-7f0a30241dcb"
      },
      "execution_count": null,
      "outputs": [
        {
          "output_type": "stream",
          "name": "stdout",
          "text": [
            "Матриця:\n",
            "[[0.92344567 0.57065816 0.06477273]\n",
            " [0.17973721 0.94951032 0.55309206]]\n",
            "\n",
            "Вектор:\n",
            "[0.04282242 0.54206675 0.03150791]\n",
            "\n",
            "Результат перемноження:\n",
            "[0.35091985 0.53982153]\n"
          ]
        }
      ]
    },
    {
      "cell_type": "code",
      "source": [
        "import numpy as np\n",
        "\n",
        "matrix1 = np.random.randint(1, 11, size=(2, 2))\n",
        "matrix2 = np.random.randint(1, 11, size=(2, 2))\n",
        "\n",
        "elementwise_product = np.multiply(matrix1, matrix2)\n",
        "\n",
        "print(\"Матриця 1:\")\n",
        "print(matrix1)\n",
        "print(\"Матриця 2:\")\n",
        "print(matrix2)\n",
        "print(\"Результат поелементного множення:\")\n",
        "print(elementwise_product)"
      ],
      "metadata": {
        "id": "FlVNzlwLr6xs"
      },
      "execution_count": null,
      "outputs": []
    },
    {
      "cell_type": "code",
      "source": [
        "import numpy as np\n",
        "\n",
        "matrix1 = np.random.randint(1, 11, size=(2, 2))\n",
        "matrix2 = np.random.randint(1, 11, size=(2, 2))\n",
        "\n",
        "product = np.dot(matrix1, matrix2)\n",
        "\n",
        "print(\"Матриця 1:\")\n",
        "print(matrix1)\n",
        "print(\"\\nМатриця 2:\")\n",
        "print(matrix2)\n",
        "print(\"\\nДобуток матриць:\")\n",
        "print(product)"
      ],
      "metadata": {
        "colab": {
          "base_uri": "https://localhost:8080/"
        },
        "id": "EfOzWRRlsJDi",
        "outputId": "b64fa3f9-a905-4b05-d75a-05794e6f2a7e"
      },
      "execution_count": null,
      "outputs": [
        {
          "output_type": "stream",
          "name": "stdout",
          "text": [
            "Матриця 1:\n",
            "[[8 3]\n",
            " [1 9]]\n",
            "\n",
            "Матриця 2:\n",
            "[[3 9]\n",
            " [8 1]]\n",
            "\n",
            "Добуток матриць:\n",
            "[[48 75]\n",
            " [75 18]]\n"
          ]
        }
      ]
    },
    {
      "cell_type": "code",
      "source": [
        "import numpy as np\n",
        "\n",
        "matrix = np.random.randint(1, 101, size=(5, 5))\n",
        "\n",
        "sum_of_elements = np.sum(matrix)\n",
        "\n",
        "print(\"Сума елементів матриці:\")\n",
        "print(sum_of_elements)"
      ],
      "metadata": {
        "colab": {
          "base_uri": "https://localhost:8080/"
        },
        "id": "4FD2L_dlsZn1",
        "outputId": "1c2cdc57-3698-4093-ce4a-a518becfe188"
      },
      "execution_count": null,
      "outputs": [
        {
          "output_type": "stream",
          "name": "stdout",
          "text": [
            "Сума елементів матриці:\n",
            "1442\n"
          ]
        }
      ]
    },
    {
      "cell_type": "code",
      "source": [
        "import numpy as np\n",
        "\n",
        "matrix1 = np.random.randint(1, 11, size=(4, 4))\n",
        "matrix2 = np.random.randint(1, 11, size=(4, 4))\n",
        "\n",
        "difference = np.subtract(matrix1, matrix2)\n",
        "\n",
        "print(difference)"
      ],
      "metadata": {
        "colab": {
          "base_uri": "https://localhost:8080/"
        },
        "id": "93OjjAAYspda",
        "outputId": "1139caac-365e-4460-8f0b-b598d45beb13"
      },
      "execution_count": null,
      "outputs": [
        {
          "output_type": "stream",
          "name": "stdout",
          "text": [
            "[[-4  3 -6  0]\n",
            " [ 3 -7 -4  4]\n",
            " [ 0 -1 -2  1]\n",
            " [ 1  2 -1 -3]]\n"
          ]
        }
      ]
    },
    {
      "cell_type": "code",
      "source": [
        "import numpy as np\n",
        "\n",
        "matrix = np.random.uniform(0, 1, size=(3, 3))\n",
        "\n",
        "row_sums = np.sum(matrix, axis=1)\n",
        "\n",
        "print(\"Матриця:\")\n",
        "print(matrix)\n",
        "print(\"Сума елементів кожного рядка:\")\n",
        "print(row_sums)"
      ],
      "metadata": {
        "colab": {
          "base_uri": "https://localhost:8080/"
        },
        "id": "xFB_5XRytCou",
        "outputId": "9a683e60-a442-485b-eed6-a88bafc84d4d"
      },
      "execution_count": 34,
      "outputs": [
        {
          "output_type": "stream",
          "name": "stdout",
          "text": [
            "Матриця:\n",
            "[[0.61551228 0.08773632 0.70485547]\n",
            " [0.57260487 0.15613223 0.2166885 ]\n",
            " [0.14637606 0.14033499 0.83677877]]\n",
            "\n",
            "Сума елементів кожного рядка:\n",
            "[1.40810407 0.9454256  1.12348982]\n"
          ]
        }
      ]
    },
    {
      "cell_type": "code",
      "source": [
        "import numpy as np\n",
        "\n",
        "matrix = np.random.randint(1, 10, size=(3, 4))\n",
        "\n",
        "squared_matrix = np.square(matrix)\n",
        "\n",
        "print(\"Матриця:\")\n",
        "print(matrix)\n",
        "print(\"\\nМатриця з квадратами чисел:\")\n",
        "print(squared_matrix)"
      ],
      "metadata": {
        "colab": {
          "base_uri": "https://localhost:8080/"
        },
        "id": "5YMEPmJCtUWp",
        "outputId": "7555ae18-1f11-434f-a2cc-471083e8e751"
      },
      "execution_count": 35,
      "outputs": [
        {
          "output_type": "stream",
          "name": "stdout",
          "text": [
            "Матриця:\n",
            "[[7 4 5 5]\n",
            " [3 7 4 4]\n",
            " [6 9 2 3]]\n",
            "\n",
            "Матриця з квадратами чисел:\n",
            "[[49 16 25 25]\n",
            " [ 9 49 16 16]\n",
            " [36 81  4  9]]\n"
          ]
        }
      ]
    },
    {
      "cell_type": "code",
      "source": [
        "import numpy as np\n",
        "\n",
        "vector = np.random.randint(1, 51, size=(4,))\n",
        "\n",
        "square_roots = np.sqrt(vector)\n",
        "\n",
        "print(\"Вектор:\")\n",
        "print(vector)\n",
        "print(\"\\nВектор з квадратними коренями чисел:\")\n",
        "print(square_roots)"
      ],
      "metadata": {
        "colab": {
          "base_uri": "https://localhost:8080/"
        },
        "id": "Z7uj6KzEtka9",
        "outputId": "1d712377-f460-4bb8-d5fd-012ca57a4c53"
      },
      "execution_count": 36,
      "outputs": [
        {
          "output_type": "stream",
          "name": "stdout",
          "text": [
            "Вектор:\n",
            "[40 35 48 10]\n",
            "\n",
            "Вектор з квадратними коренями чисел:\n",
            "[6.32455532 5.91607978 6.92820323 3.16227766]\n"
          ]
        }
      ]
    }
  ]
}